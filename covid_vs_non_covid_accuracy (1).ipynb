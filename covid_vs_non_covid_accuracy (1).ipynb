{
  "nbformat": 4,
  "nbformat_minor": 0,
  "metadata": {
    "accelerator": "GPU",
    "colab": {
      "name": "covid_vs_non_covid_accuracy.ipynb",
      "provenance": [],
      "collapsed_sections": []
    },
    "kernelspec": {
      "display_name": "Python 3",
      "name": "python3"
    },
    "language_info": {
      "name": "python"
    },
    "widgets": {
      "application/vnd.jupyter.widget-state+json": {
        "5b86db0345d64f91a6f805586028dbad": {
          "model_module": "@jupyter-widgets/controls",
          "model_name": "HBoxModel",
          "state": {
            "_view_name": "HBoxView",
            "_dom_classes": [],
            "_model_name": "HBoxModel",
            "_view_module": "@jupyter-widgets/controls",
            "_model_module_version": "1.5.0",
            "_view_count": null,
            "_view_module_version": "1.5.0",
            "box_style": "",
            "layout": "IPY_MODEL_c9b42c73702846e095b6e759b64fdd0c",
            "_model_module": "@jupyter-widgets/controls",
            "children": [
              "IPY_MODEL_49f7388fdc134a1abd3b6ffce6cc5557",
              "IPY_MODEL_df3906ef4b904c57b922ee9c961cf24f"
            ]
          }
        },
        "c9b42c73702846e095b6e759b64fdd0c": {
          "model_module": "@jupyter-widgets/base",
          "model_name": "LayoutModel",
          "state": {
            "_view_name": "LayoutView",
            "grid_template_rows": null,
            "right": null,
            "justify_content": null,
            "_view_module": "@jupyter-widgets/base",
            "overflow": null,
            "_model_module_version": "1.2.0",
            "_view_count": null,
            "flex_flow": null,
            "width": null,
            "min_width": null,
            "border": null,
            "align_items": null,
            "bottom": null,
            "_model_module": "@jupyter-widgets/base",
            "top": null,
            "grid_column": null,
            "overflow_y": null,
            "overflow_x": null,
            "grid_auto_flow": null,
            "grid_area": null,
            "grid_template_columns": null,
            "flex": null,
            "_model_name": "LayoutModel",
            "justify_items": null,
            "grid_row": null,
            "max_height": null,
            "align_content": null,
            "visibility": null,
            "align_self": null,
            "height": null,
            "min_height": null,
            "padding": null,
            "grid_auto_rows": null,
            "grid_gap": null,
            "max_width": null,
            "order": null,
            "_view_module_version": "1.2.0",
            "grid_template_areas": null,
            "object_position": null,
            "object_fit": null,
            "grid_auto_columns": null,
            "margin": null,
            "display": null,
            "left": null
          }
        },
        "49f7388fdc134a1abd3b6ffce6cc5557": {
          "model_module": "@jupyter-widgets/controls",
          "model_name": "FloatProgressModel",
          "state": {
            "_view_name": "ProgressView",
            "style": "IPY_MODEL_dcd49f88891a490094538a69a6299518",
            "_dom_classes": [],
            "description": "100%",
            "_model_name": "FloatProgressModel",
            "bar_style": "success",
            "max": 81131730,
            "_view_module": "@jupyter-widgets/controls",
            "_model_module_version": "1.5.0",
            "value": 81131730,
            "_view_count": null,
            "_view_module_version": "1.5.0",
            "orientation": "horizontal",
            "min": 0,
            "description_tooltip": null,
            "_model_module": "@jupyter-widgets/controls",
            "layout": "IPY_MODEL_f04d2541ac264d53a812314c9674377a"
          }
        },
        "df3906ef4b904c57b922ee9c961cf24f": {
          "model_module": "@jupyter-widgets/controls",
          "model_name": "HTMLModel",
          "state": {
            "_view_name": "HTMLView",
            "style": "IPY_MODEL_339fbd02b83541ea892c7756f1f25755",
            "_dom_classes": [],
            "description": "",
            "_model_name": "HTMLModel",
            "placeholder": "​",
            "_view_module": "@jupyter-widgets/controls",
            "_model_module_version": "1.5.0",
            "value": " 77.4M/77.4M [00:00&lt;00:00, 81.2MB/s]",
            "_view_count": null,
            "_view_module_version": "1.5.0",
            "description_tooltip": null,
            "_model_module": "@jupyter-widgets/controls",
            "layout": "IPY_MODEL_26a796a4c8d440a191731c85f28bd2d2"
          }
        },
        "dcd49f88891a490094538a69a6299518": {
          "model_module": "@jupyter-widgets/controls",
          "model_name": "ProgressStyleModel",
          "state": {
            "_view_name": "StyleView",
            "_model_name": "ProgressStyleModel",
            "description_width": "initial",
            "_view_module": "@jupyter-widgets/base",
            "_model_module_version": "1.5.0",
            "_view_count": null,
            "_view_module_version": "1.2.0",
            "bar_color": null,
            "_model_module": "@jupyter-widgets/controls"
          }
        },
        "f04d2541ac264d53a812314c9674377a": {
          "model_module": "@jupyter-widgets/base",
          "model_name": "LayoutModel",
          "state": {
            "_view_name": "LayoutView",
            "grid_template_rows": null,
            "right": null,
            "justify_content": null,
            "_view_module": "@jupyter-widgets/base",
            "overflow": null,
            "_model_module_version": "1.2.0",
            "_view_count": null,
            "flex_flow": null,
            "width": null,
            "min_width": null,
            "border": null,
            "align_items": null,
            "bottom": null,
            "_model_module": "@jupyter-widgets/base",
            "top": null,
            "grid_column": null,
            "overflow_y": null,
            "overflow_x": null,
            "grid_auto_flow": null,
            "grid_area": null,
            "grid_template_columns": null,
            "flex": null,
            "_model_name": "LayoutModel",
            "justify_items": null,
            "grid_row": null,
            "max_height": null,
            "align_content": null,
            "visibility": null,
            "align_self": null,
            "height": null,
            "min_height": null,
            "padding": null,
            "grid_auto_rows": null,
            "grid_gap": null,
            "max_width": null,
            "order": null,
            "_view_module_version": "1.2.0",
            "grid_template_areas": null,
            "object_position": null,
            "object_fit": null,
            "grid_auto_columns": null,
            "margin": null,
            "display": null,
            "left": null
          }
        },
        "339fbd02b83541ea892c7756f1f25755": {
          "model_module": "@jupyter-widgets/controls",
          "model_name": "DescriptionStyleModel",
          "state": {
            "_view_name": "StyleView",
            "_model_name": "DescriptionStyleModel",
            "description_width": "",
            "_view_module": "@jupyter-widgets/base",
            "_model_module_version": "1.5.0",
            "_view_count": null,
            "_view_module_version": "1.2.0",
            "_model_module": "@jupyter-widgets/controls"
          }
        },
        "26a796a4c8d440a191731c85f28bd2d2": {
          "model_module": "@jupyter-widgets/base",
          "model_name": "LayoutModel",
          "state": {
            "_view_name": "LayoutView",
            "grid_template_rows": null,
            "right": null,
            "justify_content": null,
            "_view_module": "@jupyter-widgets/base",
            "overflow": null,
            "_model_module_version": "1.2.0",
            "_view_count": null,
            "flex_flow": null,
            "width": null,
            "min_width": null,
            "border": null,
            "align_items": null,
            "bottom": null,
            "_model_module": "@jupyter-widgets/base",
            "top": null,
            "grid_column": null,
            "overflow_y": null,
            "overflow_x": null,
            "grid_auto_flow": null,
            "grid_area": null,
            "grid_template_columns": null,
            "flex": null,
            "_model_name": "LayoutModel",
            "justify_items": null,
            "grid_row": null,
            "max_height": null,
            "align_content": null,
            "visibility": null,
            "align_self": null,
            "height": null,
            "min_height": null,
            "padding": null,
            "grid_auto_rows": null,
            "grid_gap": null,
            "max_width": null,
            "order": null,
            "_view_module_version": "1.2.0",
            "grid_template_areas": null,
            "object_position": null,
            "object_fit": null,
            "grid_auto_columns": null,
            "margin": null,
            "display": null,
            "left": null
          }
        }
      }
    }
  },
  "cells": [
    {
      "cell_type": "code",
      "metadata": {
        "colab": {
          "resources": {
            "http://localhost:8080/nbextensions/google.colab/files.js": {
              "data": "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",
              "ok": true,
              "headers": [
                [
                  "content-type",
                  "application/javascript"
                ]
              ],
              "status": 200,
              "status_text": ""
            }
          },
          "base_uri": "https://localhost:8080/",
          "height": 90
        },
        "id": "JKJ4UimVJ3DB",
        "outputId": "fcc74319-cd7b-4655-d009-e6d0e060c732"
      },
      "source": [
        "from google.colab import files\n",
        "files.upload()"
      ],
      "execution_count": null,
      "outputs": [
        {
          "output_type": "display_data",
          "data": {
            "text/html": [
              "\n",
              "     <input type=\"file\" id=\"files-d71e9628-1206-46f5-ab68-da0b73e4a09f\" name=\"files[]\" multiple disabled\n",
              "        style=\"border:none\" />\n",
              "     <output id=\"result-d71e9628-1206-46f5-ab68-da0b73e4a09f\">\n",
              "      Upload widget is only available when the cell has been executed in the\n",
              "      current browser session. Please rerun this cell to enable.\n",
              "      </output>\n",
              "      <script src=\"/nbextensions/google.colab/files.js\"></script> "
            ],
            "text/plain": [
              "<IPython.core.display.HTML object>"
            ]
          },
          "metadata": {
            "tags": []
          }
        },
        {
          "output_type": "stream",
          "text": [
            "Saving kaggle.json to kaggle.json\n"
          ],
          "name": "stdout"
        },
        {
          "output_type": "execute_result",
          "data": {
            "text/plain": [
              "{'kaggle.json': b'{\"username\":\"aditeyaraj\",\"key\":\"708fff37c24916e6d30708793cca9750\"}'}"
            ]
          },
          "metadata": {
            "tags": []
          },
          "execution_count": 1
        }
      ]
    },
    {
      "cell_type": "code",
      "metadata": {
        "colab": {
          "base_uri": "https://localhost:8080/"
        },
        "id": "d-sCGZsPGe6u",
        "outputId": "d618f353-e534-4b49-b04d-01c73ac9162f"
      },
      "source": [
        "!pip install -q kaggle\n",
        "!mkdir -p ~/.kaggle\n",
        "!cp kaggle.json ~/.kaggle/\n",
        "!ls ~/.kaggle\n",
        "!chmod 600 /root/.kaggle/kaggle.json"
      ],
      "execution_count": null,
      "outputs": [
        {
          "output_type": "stream",
          "text": [
            "kaggle.json\n"
          ],
          "name": "stdout"
        }
      ]
    },
    {
      "cell_type": "code",
      "metadata": {
        "colab": {
          "base_uri": "https://localhost:8080/"
        },
        "id": "PknOySplJz56",
        "outputId": "4d216a59-6b99-4846-ff1f-0ee045978b83"
      },
      "source": [
        "!ls"
      ],
      "execution_count": null,
      "outputs": [
        {
          "output_type": "stream",
          "text": [
            "kaggle.json  sample_data\n"
          ],
          "name": "stdout"
        }
      ]
    },
    {
      "cell_type": "code",
      "metadata": {
        "colab": {
          "base_uri": "https://localhost:8080/"
        },
        "id": "UEkC-jaDKXOr",
        "outputId": "17c45809-d872-41dc-b832-a7ea2cc0f713"
      },
      "source": [
        "!kaggle kernels list"
      ],
      "execution_count": null,
      "outputs": [
        {
          "output_type": "stream",
          "text": [
            "Warning: Looks like you're using an outdated API Version, please consider updating (server 1.5.12 / client 1.5.4)\n",
            "ref                                                          title                                               author                 lastRunTime          totalVotes  \n",
            "-----------------------------------------------------------  --------------------------------------------------  ---------------------  -------------------  ----------  \n",
            "tjbayeks/titanic-disaster-prediction                         Titanic Disaster Prediction                         TJSarhandi96           2021-06-10 05:41:48           2  \n",
            "nilaychauhan/time-series-forecasting-using-facebook-prophet  Time series forecasting using Facebook Prophet      Nilay Chauhan          2021-06-10 05:05:24           2  \n",
            "bastian1206/tabular-playground-random-forest-baseline        Tabular Playground Random Forest Baseline           Sebastian Miranda      2021-06-10 01:33:37          13  \n",
            "mayankrajpurohit/mnist-digit-recognizer                      MNIST Digit Recognizer                              Mayank Rajpurohit      2021-06-10 04:54:30           2  \n",
            "lykin22/fifa19-player-team-analysis-and-value-predict        FIFA19 | Player & Team Analysis and Value Predict   Ishan Kotian           2021-06-10 04:13:46          20  \n",
            "ritesh7355/stroke-prediction                                 Stroke Prediction                                   Ritesh Gupta           2021-06-10 03:39:44           3  \n",
            "kuto0633/road-detection-and-creating-grid-points             Road detection and creating grid points             kuto                   2021-06-09 14:42:41          27  \n",
            "yiweihu/mini-project-2                                       Mini Project 2                                      Yiwei Hu               2021-06-10 05:24:51           2  \n",
            "krishnagk/notebookcommonlitlinearregression                  notebookCommonLitLinearRegression                   krishna                2021-06-10 05:06:29           3  \n",
            "akhil14shukla/housing-price-prediction-advanced-regreession  Housing_Price_Prediction_Advanced_Regreession       Akhil Shukla           2021-06-10 04:57:12           1  \n",
            "aliceadativa/an-lise-de-dados-do-ibge-manaus-am              Análise de dados do IBGE (Manaus-AM)                Alice Adativa          2021-06-09 21:04:51          24  \n",
            "giangpt/u-net-for-salt-identification-padding-version        U-net for Salt Identification (padding version)     Giang                  2021-06-10 04:44:47           1  \n",
            "sharadhaviswanathan/image-classification-natural-scenes      Image Classification - Natural Scenes               Sharadha Viswanathan   2021-06-10 04:38:43           1  \n",
            "viktorbrovkin/sf-tripadvisor-rating-v2-0-brovkin             [SF TripAdvisor Rating] v2.0 Brovkin                Виктор Бровкин         2021-06-10 06:39:09           1  \n",
            "kshitijmohan/pima-diabetes-eda-prediction-0-8903             Pima Diabetes: EDA & Prediction (0.8903)            Kshitij Mohan          2021-06-10 01:50:00          10  \n",
            "t88take/gsdc-eda-error-when-stopping                         GSDC EDA : Error when stopping                      T88                    2021-06-10 00:48:56           3  \n",
            "huysonnguyen/ieee-cis-fraud-detection-part-01                IEEE-CIS Fraud Detection Part 01                    Huy-Son Nguyen         2021-06-10 04:01:29           1  \n",
            "lizandroramrezdifo/regression-logistics-scikit-learn         regression_logistics_scikit_learn                   Lizandro Ramírez Difo  2021-06-10 03:59:26           1  \n",
            "arnab132/house-price-prediction-using-adv-regression-model   House Price Prediction using Adv Regression model   Arnab Dey              2021-06-10 03:39:20           1  \n",
            "mimosabella/fitness-tracker-a-usage-trends-analysis-with-r   Fitness Tracker: A Usage Trends Analysis With R     Suong Fiori            2021-06-09 22:12:15           3  \n"
          ],
          "name": "stdout"
        }
      ]
    },
    {
      "cell_type": "code",
      "metadata": {
        "colab": {
          "base_uri": "https://localhost:8080/"
        },
        "id": "7g9RYZPoKlvw",
        "outputId": "8d0e4690-1d92-424b-addb-1a01eca91b74"
      },
      "source": [
        "!kaggle datasets list -s Covid-19 and Viral Pneumonia dataset"
      ],
      "execution_count": null,
      "outputs": [
        {
          "output_type": "stream",
          "text": [
            "usage: kaggle [-h] [-v] {competitions,c,datasets,d,kernels,k,config} ...\n",
            "kaggle: error: unrecognized arguments: and Viral Pneumonia dataset\n"
          ],
          "name": "stdout"
        }
      ]
    },
    {
      "cell_type": "code",
      "metadata": {
        "colab": {
          "base_uri": "https://localhost:8080/"
        },
        "id": "NRPLs19cK1Ev",
        "outputId": "b2083587-42e7-467b-8132-f71702a303c2"
      },
      "source": [
        "!kaggle datasets download -d muhammadmasdar/pneumonia-virus-vs-covid19"
      ],
      "execution_count": null,
      "outputs": [
        {
          "output_type": "stream",
          "text": [
            "Downloading pneumonia-virus-vs-covid19.zip to /content\n",
            " 98% 158M/162M [00:01<00:00, 81.3MB/s]\n",
            "100% 162M/162M [00:01<00:00, 86.1MB/s]\n"
          ],
          "name": "stdout"
        }
      ]
    },
    {
      "cell_type": "code",
      "metadata": {
        "colab": {
          "base_uri": "https://localhost:8080/"
        },
        "id": "SbNeAbGKndVh",
        "outputId": "074cad2a-e89b-4135-99ec-3adfc294ea49"
      },
      "source": [
        "!kaggle datasets download -d plameneduardo/sarscov2-ctscan-dataset"
      ],
      "execution_count": null,
      "outputs": [
        {
          "output_type": "stream",
          "text": [
            "Downloading sarscov2-ctscan-dataset.zip to /content\n",
            " 98% 225M/230M [00:02<00:00, 79.2MB/s]\n",
            "100% 230M/230M [00:02<00:00, 95.7MB/s]\n"
          ],
          "name": "stdout"
        }
      ]
    },
    {
      "cell_type": "code",
      "metadata": {
        "colab": {
          "base_uri": "https://localhost:8080/"
        },
        "id": "-7RiMZ3dnips",
        "outputId": "78a30375-812b-4a80-865b-0c23240a9542"
      },
      "source": [
        "!unzip -q /content/sarscov2-ctscan-dataset.zip -d .\n",
        "!ls"
      ],
      "execution_count": null,
      "outputs": [
        {
          "output_type": "stream",
          "text": [
            "COVID\t     non-COVID\t\t\t     sample_data\n",
            "kaggle.json  pneumonia-virus-vs-covid19.zip  sarscov2-ctscan-dataset.zip\n"
          ],
          "name": "stdout"
        }
      ]
    },
    {
      "cell_type": "code",
      "metadata": {
        "colab": {
          "base_uri": "https://localhost:8080/"
        },
        "id": "AV1L8bVkLU3S",
        "outputId": "e9d77a7c-12b3-4735-8b05-d20a4ce662b0"
      },
      "source": [
        "\n",
        "!unzip -q /content/pneumonia-virus-vs-covid19.zip -d .\n",
        "!ls"
      ],
      "execution_count": null,
      "outputs": [
        {
          "output_type": "stream",
          "text": [
            "COVID\t     Pneumonia_and_COVID19\t     sarscov2-ctscan-dataset.zip\n",
            "kaggle.json  pneumonia-virus-vs-covid19.zip\n",
            "non-COVID    sample_data\n"
          ],
          "name": "stdout"
        }
      ]
    },
    {
      "cell_type": "code",
      "metadata": {
        "colab": {
          "base_uri": "https://localhost:8080/",
          "height": 35
        },
        "id": "J9c2SWa9oPrK",
        "outputId": "2248d768-92b7-480d-d81e-943d6a3297b0"
      },
      "source": [
        "'''!pip install -U albumentations==0.4.6'''"
      ],
      "execution_count": null,
      "outputs": [
        {
          "output_type": "execute_result",
          "data": {
            "application/vnd.google.colaboratory.intrinsic+json": {
              "type": "string"
            },
            "text/plain": [
              "'!pip install -U albumentations==0.4.6'"
            ]
          },
          "metadata": {
            "tags": []
          },
          "execution_count": 10
        }
      ]
    },
    {
      "cell_type": "code",
      "metadata": {
        "id": "JqI4hd_TLjGO"
      },
      "source": [
        "\n",
        "import pandas as pd\n",
        "import numpy as np\n",
        "import torch\n",
        "import torchvision\n",
        "import matplotlib.pyplot as plt\n",
        "import cv2\n",
        "import glob\n",
        "from pathlib import Path\n",
        "import seaborn as sns\n",
        "import keras\n",
        "from keras import utils as np_utils\n",
        "#from keras import utils\n",
        "from keras.models import Sequential\n",
        "from keras.layers import Dense, Dropout, Activation\n",
        "from keras.optimizers import SGD\n",
        "from skimage.io import imread\n",
        "import sklearn\n",
        "from sklearn.model_selection import train_test_split\n",
        "import torch\n",
        "import torch.nn as nn\n",
        "import torchvision \n",
        "import albumentations \n",
        "import torch.nn as nn\n",
        "from torchvision import transforms\n",
        "from torch.utils.data import DataLoader\n",
        "import torch.nn.functional as F\n",
        "from albumentations.core.composition import Compose, OneOf\n",
        "import albumentations as A\n",
        "from torch.utils.data import Dataset\n",
        "from torchvision import models"
      ],
      "execution_count": null,
      "outputs": []
    },
    {
      "cell_type": "code",
      "metadata": {
        "id": "1AUp4_X3f8j1"
      },
      "source": [
        "data_dir = Path('/content/Pneumonia_and_COVID19')\n",
        "data_dir1= Path('/content/COVID')\n",
        "data_dir2= Path('/content/non-COVID')"
      ],
      "execution_count": null,
      "outputs": []
    },
    {
      "cell_type": "code",
      "metadata": {
        "id": "UYvC4g_1tnxk"
      },
      "source": [
        "viral_data=[]\n",
        "loop_dir4 = ['TEST', 'TRAIN']\n",
        "for i in loop_dir4:\n",
        "    viral_dir4 = data_dir / i /'PNEUMONIA (VIRUS)'\n",
        "    viral_cases4 = viral_dir4.glob('*.jpeg')\n",
        "    for img in viral_cases4:\n",
        "        viral_data.append((img,0))"
      ],
      "execution_count": null,
      "outputs": []
    },
    {
      "cell_type": "code",
      "metadata": {
        "colab": {
          "base_uri": "https://localhost:8080/"
        },
        "id": "7z_eJy8EhIg2",
        "outputId": "426c393b-1706-4b36-cdfd-eab4a5fb8fa8"
      },
      "source": [
        "len(viral_data)"
      ],
      "execution_count": null,
      "outputs": [
        {
          "output_type": "execute_result",
          "data": {
            "text/plain": [
              "1493"
            ]
          },
          "metadata": {
            "tags": []
          },
          "execution_count": 4
        }
      ]
    },
    {
      "cell_type": "code",
      "metadata": {
        "id": "ZvEiImQJVlwD"
      },
      "source": [
        "covid_data=[]\n",
        "loop_dir4 = ['TEST', 'TRAIN']\n",
        "for i in loop_dir4:\n",
        "    viral_dir4 = data_dir / i / 'COVID-19'\n",
        "    viral_cases4 = viral_dir4.glob('*.jpeg')\n",
        "    for img in viral_cases4:\n",
        "        covid_data.append((img,1))"
      ],
      "execution_count": null,
      "outputs": []
    },
    {
      "cell_type": "code",
      "metadata": {
        "id": "StYitVdahnJI"
      },
      "source": [
        "loop_dir4 = ['TEST', 'TRAIN']\n",
        "for i in loop_dir4:\n",
        "    viral_dir4 = data_dir / i / 'COVID-19'\n",
        "    viral_cases4 = viral_dir4.glob('*.jpg')\n",
        "    for img in viral_cases4:\n",
        "        covid_data.append((img,1))"
      ],
      "execution_count": null,
      "outputs": []
    },
    {
      "cell_type": "code",
      "metadata": {
        "id": "xwFJPJwhh0UU"
      },
      "source": [
        "loop_dir4 = ['TEST', 'TRAIN']\n",
        "for i in loop_dir4:\n",
        "    viral_dir4 = data_dir / i / 'COVID-19'\n",
        "    viral_cases4 = viral_dir4.glob('*.png')\n",
        "    for img in viral_cases4:\n",
        "        covid_data.append((img,1))"
      ],
      "execution_count": null,
      "outputs": []
    },
    {
      "cell_type": "code",
      "metadata": {
        "colab": {
          "base_uri": "https://localhost:8080/"
        },
        "id": "cO1c8ogLhcFT",
        "outputId": "9aa817e8-40cb-49b2-b3b5-43b4fcbf24ec"
      },
      "source": [
        "len(covid_data)"
      ],
      "execution_count": null,
      "outputs": [
        {
          "output_type": "execute_result",
          "data": {
            "text/plain": [
              "70"
            ]
          },
          "metadata": {
            "tags": []
          },
          "execution_count": 8
        }
      ]
    },
    {
      "cell_type": "code",
      "metadata": {
        "colab": {
          "base_uri": "https://localhost:8080/"
        },
        "id": "a8iZPXHdg9Ny",
        "outputId": "54be9270-8d73-4ebc-e7d4-2b706fe6abaf"
      },
      "source": [
        "print('number of viral cases: ' + str(len(viral_data)))"
      ],
      "execution_count": null,
      "outputs": [
        {
          "output_type": "stream",
          "text": [
            "number of viral cases: 1493\n"
          ],
          "name": "stdout"
        }
      ]
    },
    {
      "cell_type": "code",
      "metadata": {
        "id": "hXF-LQ_inGEO"
      },
      "source": [
        "viral_dir4 = data_dir1\n",
        "viral_cases4 = viral_dir4.glob('*.png')\n",
        "for img in viral_cases4:\n",
        "    covid_data.append((img,1))"
      ],
      "execution_count": null,
      "outputs": []
    },
    {
      "cell_type": "code",
      "metadata": {
        "id": "zbHWa4Imu8Hi"
      },
      "source": [
        "viral_dir4 = data_dir2\n",
        "viral_cases4 = viral_dir4.glob('*.png')\n",
        "for img in viral_cases4:\n",
        "    viral_data.append((img,0))"
      ],
      "execution_count": null,
      "outputs": []
    },
    {
      "cell_type": "code",
      "metadata": {
        "colab": {
          "base_uri": "https://localhost:8080/"
        },
        "id": "ei4GpTCouskL",
        "outputId": "e5392662-37b9-40aa-e5fd-d813fd6dfcd6"
      },
      "source": [
        "len(covid_data)"
      ],
      "execution_count": null,
      "outputs": [
        {
          "output_type": "execute_result",
          "data": {
            "text/plain": [
              "1252"
            ]
          },
          "metadata": {
            "tags": []
          },
          "execution_count": 16
        }
      ]
    },
    {
      "cell_type": "code",
      "metadata": {
        "colab": {
          "base_uri": "https://localhost:8080/"
        },
        "id": "xOR1nyXPu03G",
        "outputId": "3d348ff6-59c6-4c1b-9c55-8bed8cbf0560"
      },
      "source": [
        "\n",
        "len(viral_data)"
      ],
      "execution_count": null,
      "outputs": [
        {
          "output_type": "execute_result",
          "data": {
            "text/plain": [
              "1229"
            ]
          },
          "metadata": {
            "tags": []
          },
          "execution_count": 17
        }
      ]
    },
    {
      "cell_type": "code",
      "metadata": {
        "id": "u2ktCaplxBDT"
      },
      "source": [
        "\n",
        "\n",
        "data=covid_data + viral_data"
      ],
      "execution_count": null,
      "outputs": []
    },
    {
      "cell_type": "code",
      "metadata": {
        "colab": {
          "base_uri": "https://localhost:8080/",
          "height": 203
        },
        "id": "71VnF7wfV_tD",
        "outputId": "670b9910-8e75-419d-b3e4-cdb5ac682540"
      },
      "source": [
        "\n",
        "\n",
        "data = pd.DataFrame(data, columns=['image', 'label'],index=None)\n",
        "#shuffle\n",
        "data = data.sample(frac=1.).reset_index(drop=True)\n",
        "#print\n",
        "data.head()"
      ],
      "execution_count": null,
      "outputs": [
        {
          "output_type": "execute_result",
          "data": {
            "text/html": [
              "<div>\n",
              "<style scoped>\n",
              "    .dataframe tbody tr th:only-of-type {\n",
              "        vertical-align: middle;\n",
              "    }\n",
              "\n",
              "    .dataframe tbody tr th {\n",
              "        vertical-align: top;\n",
              "    }\n",
              "\n",
              "    .dataframe thead th {\n",
              "        text-align: right;\n",
              "    }\n",
              "</style>\n",
              "<table border=\"1\" class=\"dataframe\">\n",
              "  <thead>\n",
              "    <tr style=\"text-align: right;\">\n",
              "      <th></th>\n",
              "      <th>image</th>\n",
              "      <th>label</th>\n",
              "    </tr>\n",
              "  </thead>\n",
              "  <tbody>\n",
              "    <tr>\n",
              "      <th>0</th>\n",
              "      <td>/content/COVID/Covid (641).png</td>\n",
              "      <td>1</td>\n",
              "    </tr>\n",
              "    <tr>\n",
              "      <th>1</th>\n",
              "      <td>/content/non-COVID/Non-Covid (384).png</td>\n",
              "      <td>0</td>\n",
              "    </tr>\n",
              "    <tr>\n",
              "      <th>2</th>\n",
              "      <td>/content/COVID/Covid (385).png</td>\n",
              "      <td>1</td>\n",
              "    </tr>\n",
              "    <tr>\n",
              "      <th>3</th>\n",
              "      <td>/content/non-COVID/Non-Covid (932).png</td>\n",
              "      <td>0</td>\n",
              "    </tr>\n",
              "    <tr>\n",
              "      <th>4</th>\n",
              "      <td>/content/COVID/Covid (846).png</td>\n",
              "      <td>1</td>\n",
              "    </tr>\n",
              "  </tbody>\n",
              "</table>\n",
              "</div>"
            ],
            "text/plain": [
              "                                    image  label\n",
              "0          /content/COVID/Covid (641).png      1\n",
              "1  /content/non-COVID/Non-Covid (384).png      0\n",
              "2          /content/COVID/Covid (385).png      1\n",
              "3  /content/non-COVID/Non-Covid (932).png      0\n",
              "4          /content/COVID/Covid (846).png      1"
            ]
          },
          "metadata": {
            "tags": []
          },
          "execution_count": 19
        }
      ]
    },
    {
      "cell_type": "code",
      "metadata": {
        "colab": {
          "base_uri": "https://localhost:8080/",
          "height": 417
        },
        "id": "KeoVdx5-xWVg",
        "outputId": "d419bb79-104c-41db-dce6-dd933ace096f"
      },
      "source": [
        "data"
      ],
      "execution_count": null,
      "outputs": [
        {
          "output_type": "execute_result",
          "data": {
            "text/html": [
              "<div>\n",
              "<style scoped>\n",
              "    .dataframe tbody tr th:only-of-type {\n",
              "        vertical-align: middle;\n",
              "    }\n",
              "\n",
              "    .dataframe tbody tr th {\n",
              "        vertical-align: top;\n",
              "    }\n",
              "\n",
              "    .dataframe thead th {\n",
              "        text-align: right;\n",
              "    }\n",
              "</style>\n",
              "<table border=\"1\" class=\"dataframe\">\n",
              "  <thead>\n",
              "    <tr style=\"text-align: right;\">\n",
              "      <th></th>\n",
              "      <th>image</th>\n",
              "      <th>label</th>\n",
              "    </tr>\n",
              "  </thead>\n",
              "  <tbody>\n",
              "    <tr>\n",
              "      <th>0</th>\n",
              "      <td>/content/COVID/Covid (641).png</td>\n",
              "      <td>1</td>\n",
              "    </tr>\n",
              "    <tr>\n",
              "      <th>1</th>\n",
              "      <td>/content/non-COVID/Non-Covid (384).png</td>\n",
              "      <td>0</td>\n",
              "    </tr>\n",
              "    <tr>\n",
              "      <th>2</th>\n",
              "      <td>/content/COVID/Covid (385).png</td>\n",
              "      <td>1</td>\n",
              "    </tr>\n",
              "    <tr>\n",
              "      <th>3</th>\n",
              "      <td>/content/non-COVID/Non-Covid (932).png</td>\n",
              "      <td>0</td>\n",
              "    </tr>\n",
              "    <tr>\n",
              "      <th>4</th>\n",
              "      <td>/content/COVID/Covid (846).png</td>\n",
              "      <td>1</td>\n",
              "    </tr>\n",
              "    <tr>\n",
              "      <th>...</th>\n",
              "      <td>...</td>\n",
              "      <td>...</td>\n",
              "    </tr>\n",
              "    <tr>\n",
              "      <th>2476</th>\n",
              "      <td>/content/COVID/Covid (233).png</td>\n",
              "      <td>1</td>\n",
              "    </tr>\n",
              "    <tr>\n",
              "      <th>2477</th>\n",
              "      <td>/content/COVID/Covid (647).png</td>\n",
              "      <td>1</td>\n",
              "    </tr>\n",
              "    <tr>\n",
              "      <th>2478</th>\n",
              "      <td>/content/non-COVID/Non-Covid (1170).png</td>\n",
              "      <td>0</td>\n",
              "    </tr>\n",
              "    <tr>\n",
              "      <th>2479</th>\n",
              "      <td>/content/COVID/Covid (809).png</td>\n",
              "      <td>1</td>\n",
              "    </tr>\n",
              "    <tr>\n",
              "      <th>2480</th>\n",
              "      <td>/content/non-COVID/Non-Covid (599).png</td>\n",
              "      <td>0</td>\n",
              "    </tr>\n",
              "  </tbody>\n",
              "</table>\n",
              "<p>2481 rows × 2 columns</p>\n",
              "</div>"
            ],
            "text/plain": [
              "                                        image  label\n",
              "0              /content/COVID/Covid (641).png      1\n",
              "1      /content/non-COVID/Non-Covid (384).png      0\n",
              "2              /content/COVID/Covid (385).png      1\n",
              "3      /content/non-COVID/Non-Covid (932).png      0\n",
              "4              /content/COVID/Covid (846).png      1\n",
              "...                                       ...    ...\n",
              "2476           /content/COVID/Covid (233).png      1\n",
              "2477           /content/COVID/Covid (647).png      1\n",
              "2478  /content/non-COVID/Non-Covid (1170).png      0\n",
              "2479           /content/COVID/Covid (809).png      1\n",
              "2480   /content/non-COVID/Non-Covid (599).png      0\n",
              "\n",
              "[2481 rows x 2 columns]"
            ]
          },
          "metadata": {
            "tags": []
          },
          "execution_count": 20
        }
      ]
    },
    {
      "cell_type": "code",
      "metadata": {
        "colab": {
          "base_uri": "https://localhost:8080/"
        },
        "id": "FJ82vnGQxnTX",
        "outputId": "11e7e202-e172-4774-e41d-0b8f072868e7"
      },
      "source": [
        "# Get the counts for each class\n",
        "cases_count = data['label'].value_counts()\n",
        "print('NO of non covid image-:',cases_count[0])\n",
        "print('NO of covid-19 image-:',cases_count[1])"
      ],
      "execution_count": null,
      "outputs": [
        {
          "output_type": "stream",
          "text": [
            "NO of non covid image-: 1229\n",
            "NO of covid-19 image-: 1252\n"
          ],
          "name": "stdout"
        }
      ]
    },
    {
      "cell_type": "code",
      "metadata": {
        "colab": {
          "base_uri": "https://localhost:8080/"
        },
        "id": "yD1GRie9zuOg",
        "outputId": "8f00eb14-01ac-451f-b8f0-e21388fc37fd"
      },
      "source": [
        "\n",
        "len(data)"
      ],
      "execution_count": null,
      "outputs": [
        {
          "output_type": "execute_result",
          "data": {
            "text/plain": [
              "2481"
            ]
          },
          "metadata": {
            "tags": []
          },
          "execution_count": 22
        }
      ]
    },
    {
      "cell_type": "code",
      "metadata": {
        "id": "4_EQ7-VoOMAE"
      },
      "source": [
        "\n",
        "mean=np.array([0.485,0.456,0.486])\n",
        "std=np.array([0.229,0.224,0.225])"
      ],
      "execution_count": null,
      "outputs": []
    },
    {
      "cell_type": "code",
      "metadata": {
        "id": "p3mPVccvauoD"
      },
      "source": [
        "train, validate, test = np.split(data.sample(frac=1), [int(.6*len(data)), int(.8*len(data))])\n"
      ],
      "execution_count": null,
      "outputs": []
    },
    {
      "cell_type": "code",
      "metadata": {
        "colab": {
          "base_uri": "https://localhost:8080/"
        },
        "id": "-YYkIp0Lhclk",
        "outputId": "b66156b7-2ccc-484a-8a87-1b969f3c4ed0"
      },
      "source": [
        "print('number of training images and labels: ' + str(len(train)) + ' and ' + str(len(train)))\n",
        "print('number of validation images and labels: ' + str(len(validate)) + ' and ' + str(len(validate)))\n",
        "print('number of test images and labels: ' + str(len(test)) + ' and ' + str(len(test)))"
      ],
      "execution_count": null,
      "outputs": [
        {
          "output_type": "stream",
          "text": [
            "number of training images and labels: 1488 and 1488\n",
            "number of validation images and labels: 496 and 496\n",
            "number of test images and labels: 497 and 497\n"
          ],
          "name": "stdout"
        }
      ]
    },
    {
      "cell_type": "code",
      "metadata": {
        "id": "NrnbrCPdgyTy"
      },
      "source": [
        "train_transform=transforms.Compose([             \n",
        "            transforms.ToPILImage(),\n",
        "            transforms.Resize(256),\n",
        "            transforms.CenterCrop(224),\n",
        "            transforms.RandomHorizontalFlip(p=0.5),\n",
        "            transforms.ToTensor(),\n",
        "            transforms.Normalize(mean,std)\n",
        "        ])"
      ],
      "execution_count": null,
      "outputs": []
    },
    {
      "cell_type": "code",
      "metadata": {
        "id": "dt1J8aq_g0tX"
      },
      "source": [
        "vt_transform=transforms.Compose([\n",
        "            transforms.ToPILImage(),\n",
        "            transforms.Resize(256),\n",
        "            transforms.CenterCrop(224),\n",
        "            transforms.ToTensor()\n",
        "        ])"
      ],
      "execution_count": null,
      "outputs": []
    },
    {
      "cell_type": "code",
      "metadata": {
        "id": "PTN7nRdciFBx"
      },
      "source": [
        "from PIL import Image\n",
        "import PIL"
      ],
      "execution_count": null,
      "outputs": []
    },
    {
      "cell_type": "code",
      "metadata": {
        "id": "IkkvEeTRXKP-"
      },
      "source": [
        "train_data = []\n",
        "train_label = []\n",
        "for index, d in train.iterrows():\n",
        "    img = d['image']\n",
        "    l = d['label']\n",
        "    img = cv2.imread(str(img))\n",
        "    img=img.reshape(img.shape[2],img.shape[0],-1)\n",
        "    img = torch.from_numpy(img)\n",
        "  #  print(img.shape)\n",
        "    img=train_transform(img)\n",
        "    label = torch.tensor(l)\n",
        "    train_data.append(img)\n",
        "    train_label.append(label)\n"
      ],
      "execution_count": null,
      "outputs": []
    },
    {
      "cell_type": "code",
      "metadata": {
        "id": "1WHq-QYchWTM"
      },
      "source": [
        "val_data = []\n",
        "val_label = []\n",
        "for index, d in validate.iterrows():\n",
        "    img = d['image']\n",
        "    l = d['label']\n",
        "    img = cv2.imread(str(img))\n",
        "    img=img.reshape(img.shape[2],img.shape[0],-1)\n",
        "    img = torch.from_numpy(img)\n",
        "  #  print(img.shape)\n",
        "    img=vt_transform(img)\n",
        "    label = torch.tensor(l)\n",
        "    val_data.append(img)\n",
        "    val_label.append(label)\n"
      ],
      "execution_count": null,
      "outputs": []
    },
    {
      "cell_type": "code",
      "metadata": {
        "colab": {
          "base_uri": "https://localhost:8080/"
        },
        "id": "T6KLLUh0iEak",
        "outputId": "2d566177-1597-4582-9885-6f9c28029b6d"
      },
      "source": [
        "len(val_data)"
      ],
      "execution_count": null,
      "outputs": [
        {
          "output_type": "execute_result",
          "data": {
            "text/plain": [
              "496"
            ]
          },
          "metadata": {
            "tags": []
          },
          "execution_count": 31
        }
      ]
    },
    {
      "cell_type": "code",
      "metadata": {
        "id": "fUbfqS_xiJTP"
      },
      "source": [
        "test_data = []\n",
        "test_label = []\n",
        "for index, d in validate.iterrows():\n",
        "    img = d['image']\n",
        "    l = d['label']\n",
        "    img = cv2.imread(str(img))\n",
        "    img=img.reshape(img.shape[2],img.shape[0],-1)\n",
        "    img = torch.from_numpy(img)\n",
        "  #  print(img.shape)\n",
        "    img=train_transform(img)\n",
        "    label = torch.tensor(l)\n",
        "    test_data.append(img)\n",
        "    test_label.append(label)\n"
      ],
      "execution_count": null,
      "outputs": []
    },
    {
      "cell_type": "code",
      "metadata": {
        "colab": {
          "base_uri": "https://localhost:8080/"
        },
        "id": "C4rM8x_OiSwC",
        "outputId": "e0eb2ed1-5a25-4bcd-e281-60fbcbb3424e"
      },
      "source": [
        "len(test_data)"
      ],
      "execution_count": null,
      "outputs": [
        {
          "output_type": "execute_result",
          "data": {
            "text/plain": [
              "496"
            ]
          },
          "metadata": {
            "tags": []
          },
          "execution_count": 33
        }
      ]
    },
    {
      "cell_type": "code",
      "metadata": {
        "colab": {
          "base_uri": "https://localhost:8080/"
        },
        "id": "sEEPKW6qhwMh",
        "outputId": "0d772cfe-6305-45b0-8a6d-953111c03d9d"
      },
      "source": [
        "# Get the counts for each class\n",
        "cases_count = train['label'].value_counts()\n",
        "print(cases_count)"
      ],
      "execution_count": null,
      "outputs": [
        {
          "output_type": "stream",
          "text": [
            "1    766\n",
            "0    722\n",
            "Name: label, dtype: int64\n"
          ],
          "name": "stdout"
        }
      ]
    },
    {
      "cell_type": "code",
      "metadata": {
        "id": "ILAT7eZVddE7"
      },
      "source": [
        "train_loader = DataLoader(train, batch_size=32, shuffle=True, pin_memory=True, drop_last=True)\n",
        "valid_loader = DataLoader(validate, batch_size=32, shuffle=False, num_workers=2)\n",
        "test_loader = DataLoader(test,batch_size=32, shuffle=False, num_workers=2)"
      ],
      "execution_count": null,
      "outputs": []
    },
    {
      "cell_type": "markdown",
      "metadata": {
        "id": "iPRgmpP2cguj"
      },
      "source": [
        "# MODEL BUILDING"
      ]
    },
    {
      "cell_type": "code",
      "metadata": {
        "id": "fbjS2gcxac8f",
        "colab": {
          "base_uri": "https://localhost:8080/",
          "height": 119
        },
        "outputId": "ce93233f-ed68-4811-9828-c143c976acbc"
      },
      "source": [
        "'''model1=models.densenet201(pretrained=True)\n",
        "for param in model1.parameters():\n",
        "    param.requires_grad=False\n",
        "num_ftrs=model1.fc.in_features\n",
        "#model.fc=nn.Linear(num_ftrs,500)\n",
        "model.fc=nn.Sequential(nn.Conv2d(inp,hidden1,conv_k),\n",
        "                                  nn.BatchNorm2d(hidden1),\n",
        "                                  nn.ReLU(),\n",
        "                                  nn.MaxPool2d(kernel_size=2))\n",
        "#model.fc=nn.Sequential(nn.Conv2d(hidden1,hidden2,conv_k),\n",
        "                                  nn.BatchNorm2d(hidden2),\n",
        "                                  nn.ReLU(),\n",
        "                                  nn.MaxPool2d(kernel_size=2))\n",
        "model1.fc=nn.Sequential(nn.Linear(num_ftrs,50),\n",
        "                                  nn.ReLU(),\n",
        "                                  nn.Dropout(0.5),\n",
        "                                  nn.Linear(50,2))'''"
      ],
      "execution_count": null,
      "outputs": [
        {
          "output_type": "execute_result",
          "data": {
            "application/vnd.google.colaboratory.intrinsic+json": {
              "type": "string"
            },
            "text/plain": [
              "'model1=models.densenet201(pretrained=True)\\nfor param in model1.parameters():\\n    param.requires_grad=False\\nnum_ftrs=model1.fc.in_features\\n#model.fc=nn.Linear(num_ftrs,500)\\nmodel.fc=nn.Sequential(nn.Conv2d(inp,hidden1,conv_k),\\n                                  nn.BatchNorm2d(hidden1),\\n                                  nn.ReLU(),\\n                                  nn.MaxPool2d(kernel_size=2))\\n#model.fc=nn.Sequential(nn.Conv2d(hidden1,hidden2,conv_k),\\n                                  nn.BatchNorm2d(hidden2),\\n                                  nn.ReLU(),\\n                                  nn.MaxPool2d(kernel_size=2))\\nmodel1.fc=nn.Sequential(nn.Linear(num_ftrs,50),\\n                                  nn.ReLU(),\\n                                  nn.Dropout(0.5),\\n                                  nn.Linear(50,2))'"
            ]
          },
          "metadata": {
            "tags": []
          },
          "execution_count": 32
        }
      ]
    },
    {
      "cell_type": "code",
      "metadata": {
        "id": "p7GVjH6zL0KG"
      },
      "source": [
        "class Net(nn.Module):\n",
        "  def __init__(self):\n",
        "    super(Net,self).__init__()\n",
        "    self.densenet =models.densenet201(pretrained=True)\n",
        "    for p in self.densenet.parameters():\n",
        "           p.requires_grad = False\n",
        "    self.densenet.classifier = nn.Identity()\n",
        "    self.flatten1 = nn.Flatten()\n",
        "    self.linear1 = nn.Linear(1920,128)\n",
        "    self.relu1 = nn.ReLU()\n",
        "    self.dropout1 = nn.Dropout(0.2)\n",
        "    self.linear2 = nn.Linear(128,64)\n",
        "    self.relu2 = nn.ReLU()\n",
        "    self.dropout2 = nn.Dropout(0.3)\n",
        "    self.linear3 = nn.Linear(64,2)\n",
        "    self.sigmoid = nn.Sigmoid()\n",
        "    \n",
        "    \n",
        "  def forward(self,x):\n",
        "    x=self.densenet(x)\n",
        "    x=self.flatten1(x)\n",
        "    x=self.linear1(x)\n",
        "    x=self.relu1(x)\n",
        "    x=self.dropout1(x)\n",
        "    x=self.linear2(x)\n",
        "    x=self.relu2(x)\n",
        "    return F.log_softmax(x,dim=-1)"
      ],
      "execution_count": null,
      "outputs": []
    },
    {
      "cell_type": "code",
      "metadata": {
        "id": "BASZEAWlF9BR"
      },
      "source": [
        "from torch.utils.tensorboard import SummaryWriter"
      ],
      "execution_count": null,
      "outputs": []
    },
    {
      "cell_type": "code",
      "metadata": {
        "id": "CHSD7PPRkxR8"
      },
      "source": [
        "train_data=[t.numpy() for t in train_data]"
      ],
      "execution_count": null,
      "outputs": []
    },
    {
      "cell_type": "code",
      "metadata": {
        "id": "kC05L3MIlONv"
      },
      "source": [
        "val_data=[t.numpy() for t in val_data]\n",
        "validate=torch.tensor(val_data)\n",
        "test_data=[t.numpy() for t in test_data]\n",
        "test_data=torch.tensor(test_data)"
      ],
      "execution_count": null,
      "outputs": []
    },
    {
      "cell_type": "code",
      "metadata": {
        "colab": {
          "base_uri": "https://localhost:8080/"
        },
        "id": "mhFRG8JZjjtO",
        "outputId": "938c2ec3-a367-495e-97d0-c4474120ab5c"
      },
      "source": [
        "train_data=torch.tensor(train_data)\n",
        "train_data.shape"
      ],
      "execution_count": null,
      "outputs": [
        {
          "output_type": "execute_result",
          "data": {
            "text/plain": [
              "torch.Size([1488, 3, 224, 224])"
            ]
          },
          "metadata": {
            "tags": []
          },
          "execution_count": 39
        }
      ]
    },
    {
      "cell_type": "code",
      "metadata": {
        "id": "jogbsVbpjifQ"
      },
      "source": [
        "train_loader = DataLoader(train_data, batch_size=32, shuffle=True, pin_memory=True, drop_last=True)\n",
        "valid_loader = DataLoader(validate, batch_size=32, shuffle=False, num_workers=2)\n",
        "test_loader = DataLoader(test_data,batch_size=32, shuffle=False, num_workers=2)"
      ],
      "execution_count": null,
      "outputs": []
    },
    {
      "cell_type": "code",
      "metadata": {
        "colab": {
          "base_uri": "https://localhost:8080/"
        },
        "id": "gV1mGo7dninb",
        "outputId": "8b1b77fc-2001-462c-b395-17bfe035a503"
      },
      "source": [
        "train_label1=DataLoader(train_label, batch_size=32, shuffle=True, pin_memory=True, drop_last=True)\n",
        "len(train_label1)"
      ],
      "execution_count": null,
      "outputs": [
        {
          "output_type": "execute_result",
          "data": {
            "text/plain": [
              "46"
            ]
          },
          "metadata": {
            "tags": []
          },
          "execution_count": 41
        }
      ]
    },
    {
      "cell_type": "code",
      "metadata": {
        "id": "NjTzuo6Qt5eY"
      },
      "source": [
        "\n",
        "valid_label1=DataLoader(val_label, batch_size=32, shuffle=True,num_workers=2)\n",
        "test_label1= DataLoader(test_label, batch_size=32, shuffle=True, num_workers=2)"
      ],
      "execution_count": null,
      "outputs": []
    },
    {
      "cell_type": "code",
      "metadata": {
        "id": "0okgYdvjdBI1",
        "colab": {
          "base_uri": "https://localhost:8080/",
          "height": 52
        },
        "outputId": "b67202b3-bc3f-491b-b688-dd11eb5dd370"
      },
      "source": [
        "'''num_epoch=10\n",
        "learning_rate = 0.001 \n",
        "#0.01 \n",
        "\n",
        "criteria = nn.CrossEntropyLoss() \n",
        "#nn.NLLLoss() \n",
        "\n",
        "optimizer = torch.optim.Adam(model.parameters(), lr=learning_rate) '''"
      ],
      "execution_count": null,
      "outputs": [
        {
          "output_type": "execute_result",
          "data": {
            "application/vnd.google.colaboratory.intrinsic+json": {
              "type": "string"
            },
            "text/plain": [
              "'num_epoch=10\\nlearning_rate = 0.001 \\n#0.01 \\n\\ncriteria = nn.CrossEntropyLoss() \\n#nn.NLLLoss() \\n\\noptimizer = torch.optim.Adam(model.parameters(), lr=learning_rate) '"
            ]
          },
          "metadata": {
            "tags": []
          },
          "execution_count": 41
        }
      ]
    },
    {
      "cell_type": "markdown",
      "metadata": {
        "id": "66Tq9DJrbxR6"
      },
      "source": [
        "# CNN Model "
      ]
    },
    {
      "cell_type": "code",
      "metadata": {
        "id": "TCTj4MPVCy6Q",
        "colab": {
          "base_uri": "https://localhost:8080/",
          "height": 36
        },
        "outputId": "08514384-b547-40b7-c1c3-8bdab99b3e69"
      },
      "source": [
        "'''inp=3\n",
        "hidden1=16\n",
        "hidden2=32\n",
        "out1=400\n",
        "conv_k=5\n",
        "out2=2'''"
      ],
      "execution_count": null,
      "outputs": [
        {
          "output_type": "execute_result",
          "data": {
            "application/vnd.google.colaboratory.intrinsic+json": {
              "type": "string"
            },
            "text/plain": [
              "'inp=3\\nhidden1=16\\nhidden2=32\\nout1=400\\nconv_k=5\\nout2=2'"
            ]
          },
          "metadata": {
            "tags": []
          },
          "execution_count": 51
        }
      ]
    },
    {
      "cell_type": "code",
      "metadata": {
        "id": "Ke8skKSM-XhG",
        "colab": {
          "base_uri": "https://localhost:8080/",
          "height": 124
        },
        "outputId": "b541cb25-3f1c-47c4-dd2e-161c6609835a"
      },
      "source": [
        "'''class Net(nn.Module):\n",
        "    def __init__(self):\n",
        "        super(Net,self).__init__()\n",
        "        self.layer1=nn.Sequential(nn.Conv2d(inp,hidden1,conv_k,padding=1),\n",
        "                                  nn.BatchNorm2d(hidden1),\n",
        "                                  nn.ReLU(),\n",
        "                                  nn.MaxPool2d(kernel_size=2))\n",
        "        self.layer2=nn.Sequential(nn.Conv2d(hidden1,hidden2,conv_k,padding=1),\n",
        "                                  nn.BatchNorm2d(hidden2),\n",
        "                                  nn.ReLU(),\n",
        "                                  nn.MaxPool2d(kernel_size=2))\n",
        "        self.layer3=nn.Sequential(nn.Conv2d(hidden2,64,conv_k,padding=1),\n",
        "                                  nn.BatchNorm2d(64),\n",
        "                                  nn.ReLU(),\n",
        "                                  nn.MaxPool2d(kernel_size=2)\n",
        "                                  )\n",
        "        self.layer4=nn.Sequential(nn.Conv2d(64,128,conv_k,padding=1),\n",
        "                                  nn.BatchNorm2d(128),\n",
        "                                  nn.ReLU(),\n",
        "                                  nn.MaxPool2d(kernel_size=2),\n",
        "                                  nn.Dropout(0.5))\n",
        "        self.layer5=nn.Sequential(nn.Conv2d(128,256,conv_k,padding=1),\n",
        "                                  nn.BatchNorm2d(256),\n",
        "                                  nn.ReLU(),\n",
        "                                  nn.MaxPool2d(kernel_size=2),\n",
        "                                  nn.Dropout(0.5))\n",
        "                                  \n",
        "        self.layer6=nn.Sequential(nn.Linear(256*5*5,out1),\n",
        "                                  nn.ReLU(),\n",
        "                                  nn.Dropout(0.5),\n",
        "                                  nn.Linear(out1,out2))\n",
        "    def forward(self,x):\n",
        "        out=self.layer1(x)\n",
        "        #print(out.shape)\n",
        "        out=self.layer2(out)\n",
        "        #print(out.shape) \n",
        "        \n",
        "        out=self.layer3(out)\n",
        "        #print(out.shape)\n",
        "        out=self.layer4(out)\n",
        "        #print(out.shape)\n",
        "        out=self.layer5(out)\n",
        "        out=out.reshape(out.size(0),-1)\n",
        "        out=self.layer6(out)\n",
        "       # print(out.shape)\n",
        "        return F.log_softmax(out,dim=-1)'''"
      ],
      "execution_count": null,
      "outputs": [
        {
          "output_type": "execute_result",
          "data": {
            "application/vnd.google.colaboratory.intrinsic+json": {
              "type": "string"
            },
            "text/plain": [
              "'class Net(nn.Module):\\n    def __init__(self):\\n        super(Net,self).__init__()\\n        self.layer1=nn.Sequential(nn.Conv2d(inp,hidden1,conv_k,padding=1),\\n                                  nn.BatchNorm2d(hidden1),\\n                                  nn.ReLU(),\\n                                  nn.MaxPool2d(kernel_size=2))\\n        self.layer2=nn.Sequential(nn.Conv2d(hidden1,hidden2,conv_k,padding=1),\\n                                  nn.BatchNorm2d(hidden2),\\n                                  nn.ReLU(),\\n                                  nn.MaxPool2d(kernel_size=2))\\n        self.layer3=nn.Sequential(nn.Conv2d(hidden2,64,conv_k,padding=1),\\n                                  nn.BatchNorm2d(64),\\n                                  nn.ReLU(),\\n                                  nn.MaxPool2d(kernel_size=2)\\n                                  )\\n        self.layer4=nn.Sequential(nn.Conv2d(64,128,conv_k,padding=1),\\n                                  nn.BatchNorm2d(128),\\n                                  nn.ReLU(),\\n                                  nn.MaxPool2d(kernel_size=2),\\n                                  nn.Dropout(0.5))\\n        self.layer5=nn.Sequential(nn.Conv2d(128,256,conv_k,padding=1),\\n                                  nn.BatchNorm2d(256),\\n                                  nn.ReLU(),\\n                                  nn.MaxPool2d(kernel_size=2),\\n                                  nn.Dropout(0.5))\\n                                  \\n        self.layer6=nn.Sequential(nn.Linear(256*5*5,out1),\\n                                  nn.ReLU(),\\n                                  nn.Dropout(0.5),\\n                                  nn.Linear(out1,out2))\\n    def forward(self,x):\\n        out=self.layer1(x)\\n        #print(out.shape)\\n        out=self.layer2(out)\\n        #print(out.shape) \\n        \\n        out=self.layer3(out)\\n        #print(out.shape)\\n        out=self.layer4(out)\\n        #print(out.shape)\\n        out=self.layer5(out)\\n        out=out.reshape(out.size(0),-1)\\n        out=self.layer6(out)\\n       # print(out.shape)\\n        return F.log_softmax(out,dim=-1)'"
            ]
          },
          "metadata": {
            "tags": []
          },
          "execution_count": 52
        }
      ]
    },
    {
      "cell_type": "code",
      "metadata": {
        "id": "MP03rqvN-YsS",
        "colab": {
          "base_uri": "https://localhost:8080/",
          "height": 82,
          "referenced_widgets": [
            "5b86db0345d64f91a6f805586028dbad",
            "c9b42c73702846e095b6e759b64fdd0c",
            "49f7388fdc134a1abd3b6ffce6cc5557",
            "df3906ef4b904c57b922ee9c961cf24f",
            "dcd49f88891a490094538a69a6299518",
            "f04d2541ac264d53a812314c9674377a",
            "339fbd02b83541ea892c7756f1f25755",
            "26a796a4c8d440a191731c85f28bd2d2"
          ]
        },
        "outputId": "9fe77c6e-73c2-480f-c545-3a3dba64bbb9"
      },
      "source": [
        "model=Net()"
      ],
      "execution_count": null,
      "outputs": [
        {
          "output_type": "stream",
          "text": [
            "Downloading: \"https://download.pytorch.org/models/densenet201-c1103571.pth\" to /root/.cache/torch/hub/checkpoints/densenet201-c1103571.pth\n"
          ],
          "name": "stderr"
        },
        {
          "output_type": "display_data",
          "data": {
            "application/vnd.jupyter.widget-view+json": {
              "model_id": "5b86db0345d64f91a6f805586028dbad",
              "version_minor": 0,
              "version_major": 2
            },
            "text/plain": [
              "HBox(children=(FloatProgress(value=0.0, max=81131730.0), HTML(value='')))"
            ]
          },
          "metadata": {
            "tags": []
          }
        },
        {
          "output_type": "stream",
          "text": [
            "\n"
          ],
          "name": "stdout"
        }
      ]
    },
    {
      "cell_type": "code",
      "metadata": {
        "id": "VFlELVo6GLPw"
      },
      "source": [
        "model"
      ],
      "execution_count": null,
      "outputs": []
    },
    {
      "cell_type": "code",
      "metadata": {
        "id": "MXy2HriTC7eO"
      },
      "source": [
        "num_epoch=6\n",
        "learning_rate = 0.001 \n",
        "#0.01 \n",
        "\n",
        "criteria = nn.CrossEntropyLoss() \n",
        "#nn.NLLLoss() \n",
        "\n",
        "optimizer = torch.optim.SGD(model.parameters(), lr=learning_rate,momentum=0.9) "
      ],
      "execution_count": null,
      "outputs": []
    },
    {
      "cell_type": "code",
      "metadata": {
        "colab": {
          "base_uri": "https://localhost:8080/"
        },
        "id": "Gbv7cK4VceRX",
        "outputId": "1b654fa8-cb95-4121-b220-7d21c40ebc1e"
      },
      "source": [
        "device=torch.device('cuda:0' if torch.cuda.is_available() else 'tpu')\n",
        "loss_value=[]\n",
        "for epoch in range(0,num_epoch):\n",
        "    for x,y in zip(train_loader,train_label1):\n",
        "        image=x\n",
        "        label=y\n",
        "        image,label,model=image.to(device),label.to(device),model.to(device)\n",
        "        output=model(image)\n",
        "        #print(output)\n",
        "        loss=criteria(output,label)\n",
        "        optimizer.zero_grad()\n",
        "        loss.backward()\n",
        "        optimizer.step()\n",
        "    print('Epoch - %d, loss - %0.5f '%(epoch, loss.item()))\n",
        "    loss_value.append(loss.item())\n",
        "#    print(loss.item(),'finish')"
      ],
      "execution_count": null,
      "outputs": [
        {
          "output_type": "stream",
          "text": [
            "Epoch - 0, loss - 0.84839 \n",
            "Epoch - 1, loss - 0.66644 \n",
            "Epoch - 2, loss - 0.57590 \n",
            "Epoch - 3, loss - 0.71040 \n",
            "Epoch - 4, loss - 0.70559 \n",
            "Epoch - 5, loss - 0.69286 \n"
          ],
          "name": "stdout"
        }
      ]
    },
    {
      "cell_type": "code",
      "metadata": {
        "id": "sdOfAOvB-Edl",
        "colab": {
          "base_uri": "https://localhost:8080/",
          "height": 71
        },
        "outputId": "401c3d5f-0667-48cc-d865-b4ba889edd9c"
      },
      "source": [
        "'''from sklearn.metrics import accuracy_score, precision_score, recall_score\n",
        "with torch.no_grad():\n",
        "    val_label2=[]\n",
        "    predicted1=[]\n",
        "    for x,y in zip(valid_loader,valid_label1):\n",
        "        image=x\n",
        "        label=y\n",
        "        image,label,model=image.to(device),label.to(device),model.to(device)\n",
        "        output=model(image)\n",
        "        _, predicted = torch.max(output.data, 1)\n",
        "        val_label0 = label.cpu().numpy()\n",
        "        predicted = predicted.cpu().numpy()\n",
        "        predicted1.append(predicted)\n",
        "        val_label2.append(val_label0)'''"
      ],
      "execution_count": null,
      "outputs": [
        {
          "output_type": "execute_result",
          "data": {
            "application/vnd.google.colaboratory.intrinsic+json": {
              "type": "string"
            },
            "text/plain": [
              "'from sklearn.metrics import accuracy_score, precision_score, recall_score\\nwith torch.no_grad():\\n    val_label2=[]\\n    predicted1=[]\\n    for x,y in zip(valid_loader,valid_label1):\\n        image=x\\n        label=y\\n        image,label,model=image.to(device),label.to(device),model.to(device)\\n        output=model(image)\\n        _, predicted = torch.max(output.data, 1)\\n        val_label0 = label.cpu().numpy()\\n        predicted = predicted.cpu().numpy()\\n        predicted1.append(predicted)\\n        val_label2.append(val_label0)'"
            ]
          },
          "metadata": {
            "tags": []
          },
          "execution_count": 56
        }
      ]
    },
    {
      "cell_type": "code",
      "metadata": {
        "colab": {
          "base_uri": "https://localhost:8080/",
          "height": 53
        },
        "id": "8k7WT6U0-JzU",
        "outputId": "7f66a8df-ef19-428d-f57d-0192f9e403a9"
      },
      "source": [
        "'''s=0\n",
        "for i in range(0,len(predicted1)):    \n",
        "    s=s+sum(predicted1[i]==val_label2[i])/len(val_label2[i])\n",
        "#count+=1\n",
        "acc=s/len(val_label2)\n",
        "#Validation_Accuracy.append(acc)\n",
        "print('Validation_Accuracy for 20 epochs:',acc)'''"
      ],
      "execution_count": null,
      "outputs": [
        {
          "output_type": "execute_result",
          "data": {
            "application/vnd.google.colaboratory.intrinsic+json": {
              "type": "string"
            },
            "text/plain": [
              "\"s=0\\nfor i in range(0,len(predicted1)):    \\n    s=s+sum(predicted1[i]==val_label2[i])/len(val_label2[i])\\n#count+=1\\nacc=s/len(val_label2)\\n#Validation_Accuracy.append(acc)\\nprint('Validation_Accuracy for 20 epochs:',acc)\""
            ]
          },
          "metadata": {
            "tags": []
          },
          "execution_count": 57
        }
      ]
    },
    {
      "cell_type": "code",
      "metadata": {
        "id": "iM6HA5GiNa4F"
      },
      "source": [
        "def get_num_correct(preds, labels):\n",
        "    return preds.argmax(dim=1).eq(labels).sum().item()"
      ],
      "execution_count": null,
      "outputs": []
    },
    {
      "cell_type": "code",
      "metadata": {
        "id": "3QG3L5uPKliE"
      },
      "source": [
        "batch_size = 100\n",
        "lr = 0.01\n",
        "\n",
        "network = model1\n",
        "train_loader = torch.utils.data.DataLoader(\n",
        "    train_data, batch_size=batch_size\n",
        ")\n",
        "train_label1=DataLoader(train_label, batch_size, shuffle=True, pin_memory=True, drop_last=True)\n",
        "optimizer = torch.optim.Adam(\n",
        "    network.parameters(), lr=lr\n",
        ")"
      ],
      "execution_count": null,
      "outputs": []
    },
    {
      "cell_type": "code",
      "metadata": {
        "id": "tFniDJ6fKXNH"
      },
      "source": [
        "tb = SummaryWriter(comment=f' batch_size={batch_size} lr={lr}')"
      ],
      "execution_count": null,
      "outputs": []
    },
    {
      "cell_type": "code",
      "metadata": {
        "id": "yoThhgWOJaQM"
      },
      "source": [
        "batch_size_list = [64,500]\n",
        "lr_list = [.01, .001, .0001]"
      ],
      "execution_count": null,
      "outputs": []
    },
    {
      "cell_type": "code",
      "metadata": {
        "id": "8W-IG-uPJYyx",
        "colab": {
          "base_uri": "https://localhost:8080/"
        },
        "outputId": "a37ecdaa-7ff0-49b2-f72a-beb70fc55823"
      },
      "source": [
        "'''for batch_size in batch_size_list:\n",
        "    for lr in lr_list:\n",
        "        network = model1\n",
        "\n",
        "        train_loader = DataLoader(\n",
        "            train_data, batch_size=batch_size\n",
        "        )\n",
        "        train_label1=DataLoader(train_label, batch_size, shuffle=True, pin_memory=True, drop_last=True)\n",
        "        optimizer = torch.optim.Adam(\n",
        "            network.parameters(), lr=lr\n",
        "        )\n",
        "\n",
        "        images= next(iter(train_loader))\n",
        "        labels = next(iter(train_label1))\n",
        "        grid = torchvision.utils.make_grid(images)\n",
        "\n",
        "       # comment=f' batch_size={batch_size} lr={lr}'\n",
        "        #tb = SummaryWriter(comment=comment)\n",
        "        #tb.add_image('images', grid)\n",
        "        #tb.add_graph(network, images)\n",
        "\n",
        "        for epoch in range(3):\n",
        "            total_loss = 0\n",
        "            total_correct = 0\n",
        "            for batch,labels in zip(train_loader,train_label1):\n",
        "                 # Get Batch\n",
        "                preds = network(images) # Pass Batch\n",
        "                loss = F.cross_entropy(preds, labels) # Calculate Loss\n",
        "                optimizer.zero_grad() # Zero Gradients\n",
        "                loss.backward() # Calculate Gradients\n",
        "                optimizer.step() # Update Weights\n",
        "\n",
        "                total_loss += loss.item() * batch_size\n",
        "                total_correct += get_num_correct(preds, labels)\n",
        "\n",
        "            tb.add_scalar(\n",
        "                'Loss', total_loss, epoch\n",
        "            )\n",
        "            tb.add_scalar(\n",
        "                'Number Correct', total_correct, epoch\n",
        "            )\n",
        "            tb.add_scalar(\n",
        "                'Accuracy', total_correct / len(train_data), epoch\n",
        "            )\n",
        "\n",
        "            for name, param in network.named_parameters():\n",
        "                tb.add_histogram(name, param, epoch)\n",
        "                tb.add_histogram(f'{name}.grad', param.grad, epoch)\n",
        "\n",
        "            print(\n",
        "                \"epoch\", epoch\n",
        "                ,\"total_correct:\", total_correct\n",
        "                ,\"loss:\", total_loss\n",
        "            )  \n",
        "       # tb.close()'''"
      ],
      "execution_count": null,
      "outputs": [
        {
          "output_type": "stream",
          "text": [
            "epoch 0 total_correct: 1597 loss: 1518.7440299987793\n",
            "epoch 1 total_correct: 1597 loss: 1495.648941040039\n",
            "epoch 2 total_correct: 1590 loss: 1499.737060546875\n",
            "epoch 0 total_correct: 1592 loss: 1498.0597839355469\n",
            "epoch 1 total_correct: 1594 loss: 1496.5767211914062\n",
            "epoch 2 total_correct: 1589 loss: 1500.0957145690918\n",
            "epoch 0 total_correct: 1590 loss: 1499.2961616516113\n",
            "epoch 1 total_correct: 1589 loss: 1500.0144958496094\n",
            "epoch 2 total_correct: 1591 loss: 1498.5904426574707\n",
            "epoch 0 total_correct: 1340 loss: 1268.9571976661682\n",
            "epoch 1 total_correct: 1360 loss: 1254.0356814861298\n",
            "epoch 2 total_correct: 1342 loss: 1267.1173512935638\n",
            "epoch 0 total_correct: 1340 loss: 1268.5065269470215\n",
            "epoch 1 total_correct: 1355 loss: 1257.5139999389648\n",
            "epoch 2 total_correct: 1344 loss: 1265.5531764030457\n",
            "epoch 0 total_correct: 1345 loss: 1264.8093104362488\n",
            "epoch 1 total_correct: 1346 loss: 1264.0733122825623\n",
            "epoch 2 total_correct: 1356 loss: 1256.7987740039825\n"
          ],
          "name": "stdout"
        }
      ]
    },
    {
      "cell_type": "code",
      "metadata": {
        "id": "marebR05UexN"
      },
      "source": [
        "from sklearn.metrics import accuracy_score, precision_score, recall_score\n",
        "with torch.no_grad():\n",
        "    val_label2=[]\n",
        "    predicted1=[]\n",
        "    for x,y in zip(valid_loader,valid_label1):\n",
        "        image=x\n",
        "        label=y\n",
        "        image,label,model=image.to(device),label.to(device),model.to(device)\n",
        "        output=model(image)\n",
        "        _, predicted = torch.max(output.data, 1)\n",
        "        val_label0 = label.cpu().numpy()\n",
        "        predicted = predicted.cpu().numpy()\n",
        "        predicted1.append(predicted)\n",
        "        \n",
        "        val_label2.append(val_label0)"
      ],
      "execution_count": null,
      "outputs": []
    },
    {
      "cell_type": "code",
      "metadata": {
        "colab": {
          "base_uri": "https://localhost:8080/"
        },
        "id": "TW6q7Xd4Uhnx",
        "outputId": "9ace9957-1fd2-434e-e0ec-0b30ddbe4ef2"
      },
      "source": [
        "from sklearn.metrics import accuracy_score, precision_score, recall_score\n",
        "s=0\n",
        "for i in range(0,len(predicted1)):    \n",
        "    s=s+sum(predicted1[i]==val_label2[i])/len(val_label2[i])\n",
        "#count+=1\n",
        "acc=s/len(val_label2)\n",
        "#Validation_Accuracy.append(acc)\n",
        "print('Validation_Accuracy',acc)"
      ],
      "execution_count": null,
      "outputs": [
        {
          "output_type": "stream",
          "text": [
            "Validation_Accuracy 0.474609375\n"
          ],
          "name": "stdout"
        }
      ]
    },
    {
      "cell_type": "markdown",
      "metadata": {
        "id": "owRsz9k7cHb-"
      },
      "source": [
        "# Transfer Learning"
      ]
    }
  ]
}